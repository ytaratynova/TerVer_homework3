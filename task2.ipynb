{
 "cells": [
  {
   "cell_type": "code",
   "execution_count": 1,
   "id": "7147e971",
   "metadata": {},
   "outputs": [],
   "source": [
    "# В первом ящике находится 8 мячей, из которых 5 - белые. Во втором ящике - 12 мячей, из которых 5 белых. \n",
    "# Из первого ящика вытаскивают случайным образом два мяча, из второго - 4 мяча. Какова вероятность того, что 3 мяча белые?"
   ]
  },
  {
   "cell_type": "code",
   "execution_count": 5,
   "id": "dc4e1cf8",
   "metadata": {},
   "outputs": [],
   "source": [
    "def comb(n, k) :\n",
    "    kk = 1\n",
    "    nn = n \n",
    "    for i in range(1, k) :\n",
    "        nn *= n - i \n",
    "        kk *= i + 1    \n",
    "    return nn // kk\n",
    "\n"
   ]
  },
  {
   "cell_type": "code",
   "execution_count": 6,
   "id": "8f66d021",
   "metadata": {},
   "outputs": [
    {
     "name": "stdout",
     "output_type": "stream",
     "text": [
      "13860\n"
     ]
    }
   ],
   "source": [
    "#  Всего вариантов вытаскивания мячей:\n",
    "print(comb(8,2)*comb(12,4))"
   ]
  },
  {
   "cell_type": "code",
   "execution_count": 23,
   "id": "c58248d1",
   "metadata": {},
   "outputs": [
    {
     "name": "stdout",
     "output_type": "stream",
     "text": [
      "1750\n"
     ]
    }
   ],
   "source": [
    "# 1 сценарий - достаем 2 белых из первого и 1 из второго. Количесвто комбинаций:\n",
    "first = comb(5,2)*comb(5,1)*comb(7,3)\n",
    "print(first)"
   ]
  },
  {
   "cell_type": "code",
   "execution_count": 24,
   "id": "db4d0815",
   "metadata": {},
   "outputs": [
    {
     "name": "stdout",
     "output_type": "stream",
     "text": [
      "3150\n"
     ]
    }
   ],
   "source": [
    "# 2 сценарий - достаем 1 белый из первого и 2 из второго. Количесвто комбинаций:\n",
    "second = comb(5,1)*comb(3,1)*comb(5,2)*comb(7,2)\n",
    "print(second)"
   ]
  },
  {
   "cell_type": "code",
   "execution_count": 25,
   "id": "fa641f96",
   "metadata": {},
   "outputs": [
    {
     "name": "stdout",
     "output_type": "stream",
     "text": [
      "210\n"
     ]
    }
   ],
   "source": [
    "# 3 сценарий - достаем 0 белых из первого и 3 из второго. Количесвто комбинаций:\n",
    "third = comb(3,2)*comb(5,3)*comb(7,1)\n",
    "print(third)"
   ]
  },
  {
   "cell_type": "code",
   "execution_count": 26,
   "id": "e457fa6d",
   "metadata": {},
   "outputs": [
    {
     "name": "stdout",
     "output_type": "stream",
     "text": [
      "0.3686868686868687\n"
     ]
    }
   ],
   "source": [
    "probability = (first+second+third)/(comb(8,2)*comb(12,4))\n",
    "print(probability)"
   ]
  },
  {
   "cell_type": "code",
   "execution_count": null,
   "id": "b2d1c6fd",
   "metadata": {},
   "outputs": [],
   "source": []
  }
 ],
 "metadata": {
  "kernelspec": {
   "display_name": "Python 3 (ipykernel)",
   "language": "python",
   "name": "python3"
  },
  "language_info": {
   "codemirror_mode": {
    "name": "ipython",
    "version": 3
   },
   "file_extension": ".py",
   "mimetype": "text/x-python",
   "name": "python",
   "nbconvert_exporter": "python",
   "pygments_lexer": "ipython3",
   "version": "3.10.9"
  }
 },
 "nbformat": 4,
 "nbformat_minor": 5
}

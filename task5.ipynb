{
 "cells": [
  {
   "cell_type": "code",
   "execution_count": null,
   "id": "192a8cfe",
   "metadata": {},
   "outputs": [],
   "source": [
    "# Устройство состоит из трех деталей. \n",
    "# Для первой детали вероятность выйти из строя в первый месяц равна 0.1, \n",
    "# для второй - 0.2, для третьей - 0.25. \n",
    "# Какова вероятность того, что в первый месяц выйдут из строя: \n",
    "#     а). все детали \n",
    "#     б). только две детали \n",
    "#     в). хотя бы одна деталь \n",
    "#     г). от одной до двух деталей?"
   ]
  },
  {
   "cell_type": "code",
   "execution_count": 6,
   "id": "cf368a67",
   "metadata": {},
   "outputs": [
    {
     "name": "stdout",
     "output_type": "stream",
     "text": [
      "0.005000000000000001\n"
     ]
    }
   ],
   "source": [
    "#     а). все детали \n",
    "tree = 0.1*0.2*0.25\n",
    "print(tree)"
   ]
  },
  {
   "cell_type": "code",
   "execution_count": 7,
   "id": "4ceb9bf4",
   "metadata": {},
   "outputs": [
    {
     "name": "stdout",
     "output_type": "stream",
     "text": [
      "0.08000000000000002\n"
     ]
    }
   ],
   "source": [
    "#     б). только две детали \n",
    "two = 0.1*0.2*(1-0.25) + 0.1*(1-0.2)*0.25 + (1-0.1)*0.2*0.25\n",
    "print(two)"
   ]
  },
  {
   "cell_type": "code",
   "execution_count": 9,
   "id": "8c0dacbd",
   "metadata": {},
   "outputs": [
    {
     "name": "stdout",
     "output_type": "stream",
     "text": [
      "0.4600000000000001\n"
     ]
    }
   ],
   "source": [
    "#     в). хотя бы одна деталь \n",
    "one = 0.1*(1-0.2)*(1-0.25) + (1-0.1)*(1-0.2)*0.25 + (1-0.1)*0.2*(1-0.25)\n",
    "# хотя бы одна - значит 1 и больше:\n",
    "print(one+two+tree)"
   ]
  },
  {
   "cell_type": "code",
   "execution_count": 10,
   "id": "621f3c24",
   "metadata": {},
   "outputs": [
    {
     "name": "stdout",
     "output_type": "stream",
     "text": [
      "0.45500000000000007\n"
     ]
    }
   ],
   "source": [
    "#     г). от одной до двух деталей\n",
    "print(one + two)"
   ]
  },
  {
   "cell_type": "code",
   "execution_count": null,
   "id": "162dc3ed",
   "metadata": {},
   "outputs": [],
   "source": []
  }
 ],
 "metadata": {
  "kernelspec": {
   "display_name": "Python 3 (ipykernel)",
   "language": "python",
   "name": "python3"
  },
  "language_info": {
   "codemirror_mode": {
    "name": "ipython",
    "version": 3
   },
   "file_extension": ".py",
   "mimetype": "text/x-python",
   "name": "python",
   "nbconvert_exporter": "python",
   "pygments_lexer": "ipython3",
   "version": "3.10.9"
  }
 },
 "nbformat": 4,
 "nbformat_minor": 5
}

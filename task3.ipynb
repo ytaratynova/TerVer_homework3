{
 "cells": [
  {
   "cell_type": "code",
   "execution_count": null,
   "id": "0919d533",
   "metadata": {},
   "outputs": [],
   "source": [
    "# На соревновании по биатлону один из трех спортсменов стреляет и попадает в мишень. \n",
    "# Вероятность попадания для первого спортсмена равна 0.9, для второго — 0.8, для третьего — 0.6. \n",
    "# Найти вероятность того, что выстрел произведен: \n",
    "#     a). первым спортсменом \n",
    "#     б). вторым спортсменом \n",
    "#     в). третьим спортсменом."
   ]
  },
  {
   "cell_type": "code",
   "execution_count": 1,
   "id": "300679dc",
   "metadata": {},
   "outputs": [
    {
     "name": "stdout",
     "output_type": "stream",
     "text": [
      "0.7666666666666666\n"
     ]
    }
   ],
   "source": [
    "probability = 1/3*0.9 + 1/3*0.8 + 1/3*0.6\n",
    "print(probability)"
   ]
  },
  {
   "cell_type": "code",
   "execution_count": 3,
   "id": "552a27cf",
   "metadata": {},
   "outputs": [
    {
     "name": "stdout",
     "output_type": "stream",
     "text": [
      "0.391304347826087\n"
     ]
    }
   ],
   "source": [
    "#     a). первым спортсменом \n",
    "first = 1/3*0.9/probability\n",
    "print(first)"
   ]
  },
  {
   "cell_type": "code",
   "execution_count": 4,
   "id": "42233966",
   "metadata": {},
   "outputs": [
    {
     "name": "stdout",
     "output_type": "stream",
     "text": [
      "0.3478260869565218\n"
     ]
    }
   ],
   "source": [
    "#     б). вторым спортсменом  \n",
    "second = 1/3*0.8/probability\n",
    "print(second)"
   ]
  },
  {
   "cell_type": "code",
   "execution_count": 5,
   "id": "39586351",
   "metadata": {},
   "outputs": [
    {
     "name": "stdout",
     "output_type": "stream",
     "text": [
      "0.2608695652173913\n"
     ]
    }
   ],
   "source": [
    "#     в). третьим спортсменом.  \n",
    "third = 1/3*0.6/probability\n",
    "print(third)"
   ]
  },
  {
   "cell_type": "code",
   "execution_count": null,
   "id": "caac61da",
   "metadata": {},
   "outputs": [],
   "source": []
  }
 ],
 "metadata": {
  "kernelspec": {
   "display_name": "Python 3 (ipykernel)",
   "language": "python",
   "name": "python3"
  },
  "language_info": {
   "codemirror_mode": {
    "name": "ipython",
    "version": 3
   },
   "file_extension": ".py",
   "mimetype": "text/x-python",
   "name": "python",
   "nbconvert_exporter": "python",
   "pygments_lexer": "ipython3",
   "version": "3.10.9"
  }
 },
 "nbformat": 4,
 "nbformat_minor": 5
}

{
 "cells": [
  {
   "cell_type": "code",
   "execution_count": null,
   "id": "c1fed714",
   "metadata": {},
   "outputs": [],
   "source": [
    "# В университет на факультеты A и B поступило равное количество студентов, \n",
    "# а на факультет C студентов поступило столько же, сколько на A и B вместе. \n",
    "# Вероятность того, что студент факультета A сдаст первую сессию, равна 0.8. \n",
    "# Для студента факультета B эта вероятность равна 0.7, а для студента факультета C - 0.9. \n",
    "# Студент сдал первую сессию. \n",
    "# Какова вероятность, что он учится: \n",
    "#     a). на факультете A \n",
    "#     б). на факультете B \n",
    "#     в). на факультете C?"
   ]
  },
  {
   "cell_type": "code",
   "execution_count": 1,
   "id": "9e3e7dca",
   "metadata": {},
   "outputs": [
    {
     "name": "stdout",
     "output_type": "stream",
     "text": [
      "0.825\n"
     ]
    }
   ],
   "source": [
    "probability = 1/4*0.8 + 1/4*0.7 + 1/2*0.9\n",
    "print(probability)"
   ]
  },
  {
   "cell_type": "code",
   "execution_count": 2,
   "id": "bbe53d10",
   "metadata": {},
   "outputs": [
    {
     "name": "stdout",
     "output_type": "stream",
     "text": [
      "0.24242424242424246\n"
     ]
    }
   ],
   "source": [
    "#     a). на факультете A\n",
    "a = 1/4*0.8/probability\n",
    "print(a)"
   ]
  },
  {
   "cell_type": "code",
   "execution_count": 3,
   "id": "66593bc4",
   "metadata": {},
   "outputs": [
    {
     "name": "stdout",
     "output_type": "stream",
     "text": [
      "0.21212121212121213\n"
     ]
    }
   ],
   "source": [
    "#     б). на факультете B\n",
    "b = 1/4*0.7/probability\n",
    "print(b)"
   ]
  },
  {
   "cell_type": "code",
   "execution_count": 4,
   "id": "b2feda42",
   "metadata": {},
   "outputs": [
    {
     "name": "stdout",
     "output_type": "stream",
     "text": [
      "0.5454545454545455\n"
     ]
    }
   ],
   "source": [
    "#     в). на факультете С\n",
    "c = 1/2*0.9/probability\n",
    "print(c)"
   ]
  },
  {
   "cell_type": "code",
   "execution_count": null,
   "id": "6954b09b",
   "metadata": {},
   "outputs": [],
   "source": []
  }
 ],
 "metadata": {
  "kernelspec": {
   "display_name": "Python 3 (ipykernel)",
   "language": "python",
   "name": "python3"
  },
  "language_info": {
   "codemirror_mode": {
    "name": "ipython",
    "version": 3
   },
   "file_extension": ".py",
   "mimetype": "text/x-python",
   "name": "python",
   "nbconvert_exporter": "python",
   "pygments_lexer": "ipython3",
   "version": "3.10.9"
  }
 },
 "nbformat": 4,
 "nbformat_minor": 5
}

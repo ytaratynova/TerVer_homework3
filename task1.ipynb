{
 "cells": [
  {
   "cell_type": "code",
   "execution_count": 45,
   "id": "8407fc60",
   "metadata": {},
   "outputs": [],
   "source": [
    "# Даны значения зарплат из выборки выпускников:\n",
    "# 100, 80, 75, 77, 89, 33, 45, 25, 65, 17, 30, 24, 57, 55, 70, 75, 65, 84, 90, 150. \n",
    "# Посчитать (желательно без использования статистических методов наподобие std, var, mean)\n",
    "# среднее арифметическое, среднее квадратичное отклонение, смещенную и несмещенную оценки дисперсий для данной выборки.\n"
   ]
  },
  {
   "cell_type": "code",
   "execution_count": 46,
   "id": "4fa31a4a",
   "metadata": {},
   "outputs": [
    {
     "name": "stdout",
     "output_type": "stream",
     "text": [
      "65.3\n"
     ]
    }
   ],
   "source": [
    "# Среднее арифметическое (почему-то не хотел считать сумму по старинке sum(salary))\n",
    "salary = [100, 80, 75, 77, 89, 33, 45, 25, 65, 17, 30, 24, 57, 55, 70, 75, 65, 84, 90, 150]\n",
    "\n",
    "s = 0\n",
    "for i in salary:\n",
    "    s += i\n",
    "avr = s/len(salary)\n",
    "print(avr)"
   ]
  },
  {
   "cell_type": "code",
   "execution_count": 47,
   "id": "46a068a6",
   "metadata": {},
   "outputs": [
    {
     "name": "stdout",
     "output_type": "stream",
     "text": [
      "30.823854398825596\n"
     ]
    }
   ],
   "source": [
    "# Среднее квадратичное отклонение\n",
    "s = 0\n",
    "for i in salary:\n",
    "   s += (i-avr)**2 \n",
    "standard_deviation = (s/len(salary))**0.5\n",
    "print(standard_deviation)"
   ]
  },
  {
   "cell_type": "code",
   "execution_count": 48,
   "id": "24dde9ec",
   "metadata": {},
   "outputs": [
    {
     "name": "stdout",
     "output_type": "stream",
     "text": [
      "950.11\n"
     ]
    }
   ],
   "source": [
    "# Смещенная дисперсия\n",
    "dispersion_s = (s/len(salary))\n",
    "print(dispersion_s)"
   ]
  },
  {
   "cell_type": "code",
   "execution_count": 49,
   "id": "7040d747",
   "metadata": {},
   "outputs": [
    {
     "name": "stdout",
     "output_type": "stream",
     "text": [
      "949.11\n"
     ]
    }
   ],
   "source": [
    "# Несмещенная дисперсия\n",
    "dispersion_n = (s/len(salary)-1)\n",
    "print(dispersion_n)"
   ]
  },
  {
   "cell_type": "code",
   "execution_count": null,
   "id": "ce8d0da6",
   "metadata": {},
   "outputs": [],
   "source": []
  }
 ],
 "metadata": {
  "kernelspec": {
   "display_name": "Python 3 (ipykernel)",
   "language": "python",
   "name": "python3"
  },
  "language_info": {
   "codemirror_mode": {
    "name": "ipython",
    "version": 3
   },
   "file_extension": ".py",
   "mimetype": "text/x-python",
   "name": "python",
   "nbconvert_exporter": "python",
   "pygments_lexer": "ipython3",
   "version": "3.10.9"
  }
 },
 "nbformat": 4,
 "nbformat_minor": 5
}
